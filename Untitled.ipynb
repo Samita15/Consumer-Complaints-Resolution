{
 "cells": [
  {
   "cell_type": "code",
   "execution_count": 1,
   "metadata": {},
   "outputs": [],
   "source": [
    "import warnings\n",
    "warnings.filterwarnings('ignore')\n",
    "import pandas as pd\n",
    "import math\n",
    "#from sklearn.cross_validation import KFold\n",
    "from sklearn.model_selection import KFold\n",
    "from sklearn.model_selection import train_test_split\n",
    "import numpy as np\n",
    "import seaborn as sns"
   ]
  },
  {
   "cell_type": "code",
   "execution_count": 2,
   "metadata": {},
   "outputs": [],
   "source": [
    "datafile_train=r'C:/Samita/Data science course/Python/Project/Consumer_Complaints/Consumer_Complaints_train.csv'\n",
    "datafile_test=r'C:/Samita/Data science course/Python/Project/Consumer_Complaints/Consumer_Complaints_test_share.csv'\n",
    "cd_train=pd.read_csv(datafile_train)\n",
    "cd_test=pd.read_csv(datafile_test)"
   ]
  },
  {
   "cell_type": "code",
   "execution_count": 3,
   "metadata": {},
   "outputs": [
    {
     "data": {
      "text/html": [
       "<div>\n",
       "<style scoped>\n",
       "    .dataframe tbody tr th:only-of-type {\n",
       "        vertical-align: middle;\n",
       "    }\n",
       "\n",
       "    .dataframe tbody tr th {\n",
       "        vertical-align: top;\n",
       "    }\n",
       "\n",
       "    .dataframe thead th {\n",
       "        text-align: right;\n",
       "    }\n",
       "</style>\n",
       "<table border=\"1\" class=\"dataframe\">\n",
       "  <thead>\n",
       "    <tr style=\"text-align: right;\">\n",
       "      <th></th>\n",
       "      <th>Date received</th>\n",
       "      <th>Product</th>\n",
       "      <th>Sub-product</th>\n",
       "      <th>Issue</th>\n",
       "      <th>Sub-issue</th>\n",
       "      <th>Consumer complaint narrative</th>\n",
       "      <th>Company public response</th>\n",
       "      <th>Company</th>\n",
       "      <th>State</th>\n",
       "      <th>ZIP code</th>\n",
       "      <th>Tags</th>\n",
       "      <th>Consumer consent provided?</th>\n",
       "      <th>Submitted via</th>\n",
       "      <th>Date sent to company</th>\n",
       "      <th>Company response to consumer</th>\n",
       "      <th>Timely response?</th>\n",
       "      <th>Consumer disputed?</th>\n",
       "      <th>Complaint ID</th>\n",
       "    </tr>\n",
       "  </thead>\n",
       "  <tbody>\n",
       "    <tr>\n",
       "      <th>0</th>\n",
       "      <td>2014-05-15</td>\n",
       "      <td>Credit card</td>\n",
       "      <td>NaN</td>\n",
       "      <td>Billing statement</td>\n",
       "      <td>NaN</td>\n",
       "      <td>NaN</td>\n",
       "      <td>NaN</td>\n",
       "      <td>Wells Fargo &amp; Company</td>\n",
       "      <td>MI</td>\n",
       "      <td>48342</td>\n",
       "      <td>Older American</td>\n",
       "      <td>NaN</td>\n",
       "      <td>Web</td>\n",
       "      <td>2014-05-16</td>\n",
       "      <td>Closed with explanation</td>\n",
       "      <td>Yes</td>\n",
       "      <td>No</td>\n",
       "      <td>856103</td>\n",
       "    </tr>\n",
       "    <tr>\n",
       "      <th>1</th>\n",
       "      <td>2014-09-18</td>\n",
       "      <td>Bank account or service</td>\n",
       "      <td>(CD) Certificate of deposit</td>\n",
       "      <td>Making/receiving payments, sending money</td>\n",
       "      <td>NaN</td>\n",
       "      <td>NaN</td>\n",
       "      <td>NaN</td>\n",
       "      <td>Santander Bank US</td>\n",
       "      <td>PA</td>\n",
       "      <td>18042</td>\n",
       "      <td>NaN</td>\n",
       "      <td>NaN</td>\n",
       "      <td>Referral</td>\n",
       "      <td>2014-09-24</td>\n",
       "      <td>Closed</td>\n",
       "      <td>Yes</td>\n",
       "      <td>No</td>\n",
       "      <td>1034666</td>\n",
       "    </tr>\n",
       "    <tr>\n",
       "      <th>2</th>\n",
       "      <td>2014-03-13</td>\n",
       "      <td>Credit reporting</td>\n",
       "      <td>NaN</td>\n",
       "      <td>Incorrect information on credit report</td>\n",
       "      <td>Account status</td>\n",
       "      <td>NaN</td>\n",
       "      <td>NaN</td>\n",
       "      <td>Equifax</td>\n",
       "      <td>CA</td>\n",
       "      <td>92427</td>\n",
       "      <td>NaN</td>\n",
       "      <td>NaN</td>\n",
       "      <td>Referral</td>\n",
       "      <td>2014-04-03</td>\n",
       "      <td>Closed with non-monetary relief</td>\n",
       "      <td>Yes</td>\n",
       "      <td>No</td>\n",
       "      <td>756363</td>\n",
       "    </tr>\n",
       "    <tr>\n",
       "      <th>3</th>\n",
       "      <td>2015-07-17</td>\n",
       "      <td>Credit card</td>\n",
       "      <td>NaN</td>\n",
       "      <td>Billing statement</td>\n",
       "      <td>NaN</td>\n",
       "      <td>My credit card statement from US Bank, XXXX. X...</td>\n",
       "      <td>Company chooses not to provide a public response</td>\n",
       "      <td>U.S. Bancorp</td>\n",
       "      <td>GA</td>\n",
       "      <td>305XX</td>\n",
       "      <td>Older American</td>\n",
       "      <td>Consent provided</td>\n",
       "      <td>Web</td>\n",
       "      <td>2015-07-17</td>\n",
       "      <td>Closed with monetary relief</td>\n",
       "      <td>Yes</td>\n",
       "      <td>No</td>\n",
       "      <td>1474177</td>\n",
       "    </tr>\n",
       "    <tr>\n",
       "      <th>4</th>\n",
       "      <td>2014-11-20</td>\n",
       "      <td>Credit card</td>\n",
       "      <td>NaN</td>\n",
       "      <td>Transaction issue</td>\n",
       "      <td>NaN</td>\n",
       "      <td>NaN</td>\n",
       "      <td>NaN</td>\n",
       "      <td>Bank of America</td>\n",
       "      <td>MA</td>\n",
       "      <td>02127</td>\n",
       "      <td>NaN</td>\n",
       "      <td>NaN</td>\n",
       "      <td>Web</td>\n",
       "      <td>2014-11-28</td>\n",
       "      <td>Closed with explanation</td>\n",
       "      <td>Yes</td>\n",
       "      <td>No</td>\n",
       "      <td>1132572</td>\n",
       "    </tr>\n",
       "    <tr>\n",
       "      <th>5</th>\n",
       "      <td>2014-06-26</td>\n",
       "      <td>Mortgage</td>\n",
       "      <td>Other mortgage</td>\n",
       "      <td>Loan modification,collection,foreclosure</td>\n",
       "      <td>NaN</td>\n",
       "      <td>NaN</td>\n",
       "      <td>NaN</td>\n",
       "      <td>Bank of America</td>\n",
       "      <td>WI</td>\n",
       "      <td>54313</td>\n",
       "      <td>NaN</td>\n",
       "      <td>NaN</td>\n",
       "      <td>Referral</td>\n",
       "      <td>2014-07-01</td>\n",
       "      <td>Closed with explanation</td>\n",
       "      <td>Yes</td>\n",
       "      <td>No</td>\n",
       "      <td>913769</td>\n",
       "    </tr>\n",
       "    <tr>\n",
       "      <th>6</th>\n",
       "      <td>2012-09-28</td>\n",
       "      <td>Mortgage</td>\n",
       "      <td>Other mortgage</td>\n",
       "      <td>Loan servicing, payments, escrow account</td>\n",
       "      <td>NaN</td>\n",
       "      <td>NaN</td>\n",
       "      <td>NaN</td>\n",
       "      <td>Ocwen</td>\n",
       "      <td>FL</td>\n",
       "      <td>33168</td>\n",
       "      <td>NaN</td>\n",
       "      <td>NaN</td>\n",
       "      <td>Referral</td>\n",
       "      <td>2012-10-01</td>\n",
       "      <td>Closed with explanation</td>\n",
       "      <td>Yes</td>\n",
       "      <td>No</td>\n",
       "      <td>163903</td>\n",
       "    </tr>\n",
       "    <tr>\n",
       "      <th>7</th>\n",
       "      <td>2015-05-06</td>\n",
       "      <td>Mortgage</td>\n",
       "      <td>FHA mortgage</td>\n",
       "      <td>Loan modification,collection,foreclosure</td>\n",
       "      <td>NaN</td>\n",
       "      <td>I have a mortgage with Quicken Loans. From XXX...</td>\n",
       "      <td>NaN</td>\n",
       "      <td>Quicken Loans</td>\n",
       "      <td>GA</td>\n",
       "      <td>300XX</td>\n",
       "      <td>NaN</td>\n",
       "      <td>Consent provided</td>\n",
       "      <td>Web</td>\n",
       "      <td>2015-05-06</td>\n",
       "      <td>Closed with explanation</td>\n",
       "      <td>Yes</td>\n",
       "      <td>Yes</td>\n",
       "      <td>1362945</td>\n",
       "    </tr>\n",
       "    <tr>\n",
       "      <th>8</th>\n",
       "      <td>2013-02-25</td>\n",
       "      <td>Credit card</td>\n",
       "      <td>NaN</td>\n",
       "      <td>Credit card protection / Debt protection</td>\n",
       "      <td>NaN</td>\n",
       "      <td>NaN</td>\n",
       "      <td>NaN</td>\n",
       "      <td>Discover</td>\n",
       "      <td>OH</td>\n",
       "      <td>45640</td>\n",
       "      <td>NaN</td>\n",
       "      <td>NaN</td>\n",
       "      <td>Web</td>\n",
       "      <td>2013-02-26</td>\n",
       "      <td>Closed with monetary relief</td>\n",
       "      <td>Yes</td>\n",
       "      <td>No</td>\n",
       "      <td>331502</td>\n",
       "    </tr>\n",
       "    <tr>\n",
       "      <th>9</th>\n",
       "      <td>2016-03-30</td>\n",
       "      <td>Bank account or service</td>\n",
       "      <td>Checking account</td>\n",
       "      <td>Deposits and withdrawals</td>\n",
       "      <td>NaN</td>\n",
       "      <td>I put my settlement check in to bank of americ...</td>\n",
       "      <td>Company has responded to the consumer and the ...</td>\n",
       "      <td>Bank of America</td>\n",
       "      <td>TX</td>\n",
       "      <td>787XX</td>\n",
       "      <td>NaN</td>\n",
       "      <td>Consent provided</td>\n",
       "      <td>Web</td>\n",
       "      <td>2016-04-01</td>\n",
       "      <td>Closed with explanation</td>\n",
       "      <td>Yes</td>\n",
       "      <td>No</td>\n",
       "      <td>1855737</td>\n",
       "    </tr>\n",
       "  </tbody>\n",
       "</table>\n",
       "</div>"
      ],
      "text/plain": [
       "  Date received                  Product                  Sub-product  \\\n",
       "0    2014-05-15              Credit card                          NaN   \n",
       "1    2014-09-18  Bank account or service  (CD) Certificate of deposit   \n",
       "2    2014-03-13         Credit reporting                          NaN   \n",
       "3    2015-07-17              Credit card                          NaN   \n",
       "4    2014-11-20              Credit card                          NaN   \n",
       "5    2014-06-26                 Mortgage               Other mortgage   \n",
       "6    2012-09-28                 Mortgage               Other mortgage   \n",
       "7    2015-05-06                 Mortgage                 FHA mortgage   \n",
       "8    2013-02-25              Credit card                          NaN   \n",
       "9    2016-03-30  Bank account or service             Checking account   \n",
       "\n",
       "                                      Issue       Sub-issue  \\\n",
       "0                         Billing statement             NaN   \n",
       "1  Making/receiving payments, sending money             NaN   \n",
       "2    Incorrect information on credit report  Account status   \n",
       "3                         Billing statement             NaN   \n",
       "4                         Transaction issue             NaN   \n",
       "5  Loan modification,collection,foreclosure             NaN   \n",
       "6  Loan servicing, payments, escrow account             NaN   \n",
       "7  Loan modification,collection,foreclosure             NaN   \n",
       "8  Credit card protection / Debt protection             NaN   \n",
       "9                  Deposits and withdrawals             NaN   \n",
       "\n",
       "                        Consumer complaint narrative  \\\n",
       "0                                                NaN   \n",
       "1                                                NaN   \n",
       "2                                                NaN   \n",
       "3  My credit card statement from US Bank, XXXX. X...   \n",
       "4                                                NaN   \n",
       "5                                                NaN   \n",
       "6                                                NaN   \n",
       "7  I have a mortgage with Quicken Loans. From XXX...   \n",
       "8                                                NaN   \n",
       "9  I put my settlement check in to bank of americ...   \n",
       "\n",
       "                             Company public response                Company  \\\n",
       "0                                                NaN  Wells Fargo & Company   \n",
       "1                                                NaN      Santander Bank US   \n",
       "2                                                NaN                Equifax   \n",
       "3   Company chooses not to provide a public response           U.S. Bancorp   \n",
       "4                                                NaN        Bank of America   \n",
       "5                                                NaN        Bank of America   \n",
       "6                                                NaN                  Ocwen   \n",
       "7                                                NaN          Quicken Loans   \n",
       "8                                                NaN               Discover   \n",
       "9  Company has responded to the consumer and the ...        Bank of America   \n",
       "\n",
       "  State ZIP code            Tags Consumer consent provided? Submitted via  \\\n",
       "0    MI    48342  Older American                        NaN           Web   \n",
       "1    PA    18042             NaN                        NaN      Referral   \n",
       "2    CA    92427             NaN                        NaN      Referral   \n",
       "3    GA    305XX  Older American           Consent provided           Web   \n",
       "4    MA    02127             NaN                        NaN           Web   \n",
       "5    WI    54313             NaN                        NaN      Referral   \n",
       "6    FL    33168             NaN                        NaN      Referral   \n",
       "7    GA    300XX             NaN           Consent provided           Web   \n",
       "8    OH    45640             NaN                        NaN           Web   \n",
       "9    TX    787XX             NaN           Consent provided           Web   \n",
       "\n",
       "  Date sent to company     Company response to consumer Timely response?  \\\n",
       "0           2014-05-16          Closed with explanation              Yes   \n",
       "1           2014-09-24                           Closed              Yes   \n",
       "2           2014-04-03  Closed with non-monetary relief              Yes   \n",
       "3           2015-07-17      Closed with monetary relief              Yes   \n",
       "4           2014-11-28          Closed with explanation              Yes   \n",
       "5           2014-07-01          Closed with explanation              Yes   \n",
       "6           2012-10-01          Closed with explanation              Yes   \n",
       "7           2015-05-06          Closed with explanation              Yes   \n",
       "8           2013-02-26      Closed with monetary relief              Yes   \n",
       "9           2016-04-01          Closed with explanation              Yes   \n",
       "\n",
       "  Consumer disputed?  Complaint ID  \n",
       "0                 No        856103  \n",
       "1                 No       1034666  \n",
       "2                 No        756363  \n",
       "3                 No       1474177  \n",
       "4                 No       1132572  \n",
       "5                 No        913769  \n",
       "6                 No        163903  \n",
       "7                Yes       1362945  \n",
       "8                 No        331502  \n",
       "9                 No       1855737  "
      ]
     },
     "execution_count": 3,
     "metadata": {},
     "output_type": "execute_result"
    }
   ],
   "source": [
    "cd_train.head(10)"
   ]
  },
  {
   "cell_type": "code",
   "execution_count": 4,
   "metadata": {},
   "outputs": [],
   "source": [
    "cd_train['Consumer disputed?']=np.where(cd_train['Consumer disputed?']==\"Yes\",0,1)"
   ]
  },
  {
   "cell_type": "code",
   "execution_count": 5,
   "metadata": {},
   "outputs": [],
   "source": [
    "for col in ['Date received','Date sent to company']:\n",
    "    cd_train[col]=pd.to_datetime(cd_train[col],infer_datetime_format=True)\n",
    "    cd_test[col]=pd.to_datetime(cd_test[col],infer_datetime_format=True)"
   ]
  },
  {
   "cell_type": "code",
   "execution_count": 6,
   "metadata": {},
   "outputs": [],
   "source": [
    "cd_train['day_diff']=pd.to_numeric((cd_train['Date sent to company']-cd_train['Date received'])/np.timedelta64(1, 'M'))\n",
    "cd_test['day_diff']=pd.to_numeric((cd_test['Date sent to company']-cd_test['Date received'])/np.timedelta64(1, 'M'))"
   ]
  },
  {
   "cell_type": "code",
   "execution_count": 7,
   "metadata": {},
   "outputs": [],
   "source": [
    "for col in ['Date received','Date sent to company']:\n",
    "    cd_train.drop([col],1,inplace=True)\n",
    "    cd_test.drop([col],1,inplace=True)"
   ]
  },
  {
   "cell_type": "code",
   "execution_count": 8,
   "metadata": {},
   "outputs": [
    {
     "name": "stdout",
     "output_type": "stream",
     "text": [
      "Product : 12\n",
      "Sub-product : 47\n",
      "Issue : 95\n",
      "Sub-issue : 68\n",
      "Consumer complaint narrative : 74019\n",
      "Company public response : 10\n",
      "Company : 3276\n",
      "State : 62\n",
      "ZIP code : 25962\n",
      "Tags : 3\n",
      "Consumer consent provided? : 4\n",
      "Submitted via : 6\n",
      "Company response to consumer : 7\n",
      "Timely response? : 2\n"
     ]
    }
   ],
   "source": [
    "for col in cd_train.select_dtypes(['object']).columns:\n",
    "    print(col,':',cd_train[col].nunique())"
   ]
  },
  {
   "cell_type": "code",
   "execution_count": 9,
   "metadata": {},
   "outputs": [
    {
     "name": "stdout",
     "output_type": "stream",
     "text": [
      "Product : 12\n",
      "Sub-product : 47\n",
      "Issue : 94\n",
      "Sub-issue : 67\n",
      "Consumer complaint narrative : 18438\n",
      "Company public response : 10\n",
      "Company : 2237\n",
      "State : 62\n",
      "ZIP code : 17784\n",
      "Tags : 3\n",
      "Consumer consent provided? : 4\n",
      "Submitted via : 6\n",
      "Company response to consumer : 7\n",
      "Timely response? : 2\n"
     ]
    }
   ],
   "source": [
    "for col in cd_test.select_dtypes(['object']).columns:\n",
    "    print(col,':',cd_test[col].nunique())"
   ]
  },
  {
   "cell_type": "code",
   "execution_count": 10,
   "metadata": {},
   "outputs": [
    {
     "data": {
      "text/plain": [
       "Older American                   39064\n",
       "Servicemember                    22592\n",
       "Older American, Servicemember     5550\n",
       "Name: Tags, dtype: int64"
      ]
     },
     "execution_count": 10,
     "metadata": {},
     "output_type": "execute_result"
    }
   ],
   "source": [
    "cd_train['Tags'].value_counts()"
   ]
  },
  {
   "cell_type": "code",
   "execution_count": 11,
   "metadata": {},
   "outputs": [
    {
     "data": {
      "text/plain": [
       "Product                              0\n",
       "Sub-product                     138473\n",
       "Issue                                0\n",
       "Sub-issue                       292625\n",
       "Consumer complaint narrative    403327\n",
       "Company public response         388029\n",
       "Company                              0\n",
       "State                             3839\n",
       "ZIP code                          3848\n",
       "Tags                            411215\n",
       "Consumer consent provided?      342934\n",
       "Submitted via                        0\n",
       "Company response to consumer         0\n",
       "Timely response?                     0\n",
       "Consumer disputed?                   0\n",
       "Complaint ID                         0\n",
       "day_diff                             0\n",
       "dtype: int64"
      ]
     },
     "execution_count": 11,
     "metadata": {},
     "output_type": "execute_result"
    }
   ],
   "source": [
    "cd_train.isnull().sum()\n"
   ]
  },
  {
   "cell_type": "code",
   "execution_count": 12,
   "metadata": {},
   "outputs": [],
   "source": [
    "for col in ['Tags','Company public response']:\n",
    "    varname=col.replace('-','_').replace('?','').replace(\" \",'_')+'_isNan'\n",
    "    cd_train[varname]=np.where(pd.isnull(cd_train[col]),1,0)\n",
    "    cd_train.drop([col],1,inplace=True)\n",
    "    cd_test[varname]=np.where(pd.isnull(cd_test[col]),1,0)\n",
    "    cd_test.drop([col],1,inplace=True)\n",
    "    "
   ]
  },
  {
   "cell_type": "code",
   "execution_count": 15,
   "metadata": {},
   "outputs": [
    {
     "data": {
      "text/plain": [
       "Product                           object\n",
       "Sub-product                       object\n",
       "Issue                             object\n",
       "Sub-issue                         object\n",
       "Consumer complaint narrative      object\n",
       "Company                           object\n",
       "State                             object\n",
       "ZIP code                          object\n",
       "Consumer consent provided?        object\n",
       "Submitted via                     object\n",
       "Company response to consumer      object\n",
       "Timely response?                  object\n",
       "Consumer disputed?                 int32\n",
       "Complaint ID                       int64\n",
       "day_diff                         float64\n",
       "Tags_isNan                         int32\n",
       "Company_public_response_isNan      int32\n",
       "dtype: object"
      ]
     },
     "execution_count": 15,
     "metadata": {},
     "output_type": "execute_result"
    }
   ],
   "source": [
    "cd_train.dtypes"
   ]
  },
  {
   "cell_type": "code",
   "execution_count": 16,
   "metadata": {},
   "outputs": [
    {
     "name": "stdout",
     "output_type": "stream",
     "text": [
      "Product : 12\n",
      "Sub-product : 47\n",
      "Issue : 95\n",
      "Sub-issue : 68\n",
      "Consumer complaint narrative : 74019\n",
      "Company : 3276\n",
      "State : 62\n",
      "ZIP code : 25962\n",
      "Consumer consent provided? : 4\n",
      "Submitted via : 6\n",
      "Company response to consumer : 7\n",
      "Timely response? : 2\n"
     ]
    }
   ],
   "source": [
    "for col in cd_train.select_dtypes(['object']).columns:\n",
    "    print(col,':',cd_train[col].nunique())"
   ]
  },
  {
   "cell_type": "code",
   "execution_count": 17,
   "metadata": {},
   "outputs": [],
   "source": [
    "k=cd_train['State'].value_counts()\n",
    "for val in k.axes[0][0:15]:\n",
    "    varname='State_'+val.replace(',','_').replace(' ','_')\n",
    "    cd_train[varname]=np.where(cd_train['State']==val,1,0)\n",
    "    cd_test[varname]=np.where(cd_test['State']==val,1,0)\n",
    "del cd_train['State']\n",
    "del cd_test['State']"
   ]
  },
  {
   "cell_type": "code",
   "execution_count": 18,
   "metadata": {},
   "outputs": [],
   "source": [
    "for col in ['Product','Submitted via','Company response to consumer','Timely response?']:\n",
    "    \n",
    "    temp=pd.get_dummies(cd_train[col],prefix=col,drop_first=True)\n",
    "    cd_train=pd.concat([temp,cd_train],1)\n",
    "    cd_train.drop([col],1,inplace=True)\n",
    "    \n",
    "    temp=pd.get_dummies(cd_test[col],prefix=col,drop_first=True)\n",
    "    cd_test=pd.concat([temp,cd_test],1)\n",
    "    cd_test.drop([col],1,inplace=True)"
   ]
  },
  {
   "cell_type": "code",
   "execution_count": 19,
   "metadata": {},
   "outputs": [
    {
     "name": "stdout",
     "output_type": "stream",
     "text": [
      "Sub-product : 47\n",
      "Issue : 95\n",
      "Sub-issue : 68\n",
      "Consumer complaint narrative : 74019\n",
      "Company : 3276\n",
      "ZIP code : 25962\n",
      "Consumer consent provided? : 4\n"
     ]
    }
   ],
   "source": [
    "for col in cd_train.select_dtypes(['object']).columns:\n",
    "    print(col,':',cd_train[col].nunique())"
   ]
  },
  {
   "cell_type": "code",
   "execution_count": 20,
   "metadata": {},
   "outputs": [
    {
     "data": {
      "text/plain": [
       "(478421, 50)"
      ]
     },
     "execution_count": 20,
     "metadata": {},
     "output_type": "execute_result"
    }
   ],
   "source": [
    "cd_train.shape"
   ]
  },
  {
   "cell_type": "code",
   "execution_count": 21,
   "metadata": {},
   "outputs": [
    {
     "data": {
      "text/plain": [
       "(119606, 49)"
      ]
     },
     "execution_count": 21,
     "metadata": {},
     "output_type": "execute_result"
    }
   ],
   "source": [
    "cd_test.shape\n"
   ]
  },
  {
   "cell_type": "code",
   "execution_count": 22,
   "metadata": {},
   "outputs": [],
   "source": [
    "for col in ['ZIP code','Company']:\n",
    "    cd_train.drop([col],1,inplace=True)\n",
    "    cd_test.drop([col],1,inplace=True)"
   ]
  },
  {
   "cell_type": "code",
   "execution_count": 23,
   "metadata": {},
   "outputs": [
    {
     "name": "stdout",
     "output_type": "stream",
     "text": [
      "Sub-product : 47\n",
      "Issue : 95\n",
      "Sub-issue : 68\n",
      "Consumer complaint narrative : 74019\n",
      "Consumer consent provided? : 4\n"
     ]
    }
   ],
   "source": [
    "for col in cd_train.select_dtypes(['object']).columns:\n",
    "    print(col,':',cd_train[col].nunique())"
   ]
  },
  {
   "cell_type": "code",
   "execution_count": 24,
   "metadata": {},
   "outputs": [
    {
     "name": "stdout",
     "output_type": "stream",
     "text": [
      "Sub-product : 47\n",
      "Issue : 94\n",
      "Sub-issue : 67\n",
      "Consumer complaint narrative : 18438\n",
      "Consumer consent provided? : 4\n"
     ]
    }
   ],
   "source": [
    "for col in cd_test.select_dtypes(['object']).columns:\n",
    "    print(col,':',cd_test[col].nunique())"
   ]
  },
  {
   "cell_type": "code",
   "execution_count": 25,
   "metadata": {},
   "outputs": [
    {
     "data": {
      "text/plain": [
       "0         NaN\n",
       "1         NaN\n",
       "2         NaN\n",
       "3         NaN\n",
       "4         NaN\n",
       "         ... \n",
       "478416    NaN\n",
       "478417    NaN\n",
       "478418    NaN\n",
       "478419    NaN\n",
       "478420    NaN\n",
       "Name: Super, Length: 478421, dtype: object"
      ]
     },
     "execution_count": 25,
     "metadata": {},
     "output_type": "execute_result"
    }
   ],
   "source": [
    "cd_train['Super']=cd_train['Consumer consent provided?']+cd_train['Sub-product']+cd_train['Issue']+','+cd_train['Sub-issue']+','+cd_train['Consumer complaint narrative']\n",
    "del cd_train['Issue']\n",
    "del cd_train['Sub-issue']\n",
    "del cd_train['Consumer complaint narrative']\n",
    "del cd_train['Consumer consent provided?']\n",
    "cd_train[\"Super\"]=np.where(pd.isnull(cd_train[\"Super\"]),'NaN',cd_train['Super'])\n",
    "cd_train['Super'].astype(str)"
   ]
  },
  {
   "cell_type": "code",
   "execution_count": 26,
   "metadata": {},
   "outputs": [
    {
     "data": {
      "text/plain": [
       "0         NaN\n",
       "1         NaN\n",
       "2         NaN\n",
       "3         NaN\n",
       "4         NaN\n",
       "         ... \n",
       "119601    NaN\n",
       "119602    NaN\n",
       "119603    NaN\n",
       "119604    NaN\n",
       "119605    NaN\n",
       "Name: Super, Length: 119606, dtype: object"
      ]
     },
     "execution_count": 26,
     "metadata": {},
     "output_type": "execute_result"
    }
   ],
   "source": [
    "cd_test['Super']=cd_test['Consumer consent provided?']+cd_test['Sub-product']+cd_test['Issue']+','+cd_test['Sub-issue']+','+cd_test['Consumer complaint narrative']\n",
    "del cd_test['Issue']\n",
    "del cd_test['Sub-issue']\n",
    "del cd_test['Consumer consent provided?']\n",
    "del cd_test['Consumer complaint narrative']\n",
    "cd_test[\"Super\"]=np.where(pd.isnull(cd_test[\"Super\"]),'NaN',cd_test['Super'])\n",
    "cd_test['Super'].astype(str)"
   ]
  },
  {
   "cell_type": "code",
   "execution_count": 27,
   "metadata": {},
   "outputs": [
    {
     "data": {
      "text/plain": [
       "Timely response?_Yes                                                0\n",
       "Company response to consumer_Closed with explanation                0\n",
       "Company response to consumer_Closed with monetary relief            0\n",
       "Company response to consumer_Closed with non-monetary relief        0\n",
       "Company response to consumer_Closed with relief                     0\n",
       "Company response to consumer_Closed without relief                  0\n",
       "Company response to consumer_Untimely response                      0\n",
       "Submitted via_Fax                                                   0\n",
       "Submitted via_Phone                                                 0\n",
       "Submitted via_Postal mail                                           0\n",
       "Submitted via_Referral                                              0\n",
       "Submitted via_Web                                                   0\n",
       "Product_Consumer Loan                                               0\n",
       "Product_Credit card                                                 0\n",
       "Product_Credit reporting                                            0\n",
       "Product_Debt collection                                             0\n",
       "Product_Money transfers                                             0\n",
       "Product_Mortgage                                                    0\n",
       "Product_Other financial service                                     0\n",
       "Product_Payday loan                                                 0\n",
       "Product_Prepaid card                                                0\n",
       "Product_Student loan                                                0\n",
       "Product_Virtual currency                                            0\n",
       "Sub-product                                                     34752\n",
       "Complaint ID                                                        0\n",
       "day_diff                                                            0\n",
       "Tags_isNan                                                          0\n",
       "Company_public_response_isNan                                       0\n",
       "State_CA                                                            0\n",
       "State_FL                                                            0\n",
       "State_TX                                                            0\n",
       "State_NY                                                            0\n",
       "State_GA                                                            0\n",
       "State_NJ                                                            0\n",
       "State_PA                                                            0\n",
       "State_IL                                                            0\n",
       "State_VA                                                            0\n",
       "State_MD                                                            0\n",
       "State_OH                                                            0\n",
       "State_NC                                                            0\n",
       "State_MI                                                            0\n",
       "State_AZ                                                            0\n",
       "State_WA                                                            0\n",
       "Super                                                               0\n",
       "dtype: int64"
      ]
     },
     "execution_count": 27,
     "metadata": {},
     "output_type": "execute_result"
    }
   ],
   "source": [
    "cd_test.isnull().sum()"
   ]
  },
  {
   "cell_type": "code",
   "execution_count": 28,
   "metadata": {},
   "outputs": [
    {
     "data": {
      "text/plain": [
       "Timely response?_Yes                                                 0\n",
       "Company response to consumer_Closed with explanation                 0\n",
       "Company response to consumer_Closed with monetary relief             0\n",
       "Company response to consumer_Closed with non-monetary relief         0\n",
       "Company response to consumer_Closed with relief                      0\n",
       "Company response to consumer_Closed without relief                   0\n",
       "Company response to consumer_Untimely response                       0\n",
       "Submitted via_Fax                                                    0\n",
       "Submitted via_Phone                                                  0\n",
       "Submitted via_Postal mail                                            0\n",
       "Submitted via_Referral                                               0\n",
       "Submitted via_Web                                                    0\n",
       "Product_Consumer Loan                                                0\n",
       "Product_Credit card                                                  0\n",
       "Product_Credit reporting                                             0\n",
       "Product_Debt collection                                              0\n",
       "Product_Money transfers                                              0\n",
       "Product_Mortgage                                                     0\n",
       "Product_Other financial service                                      0\n",
       "Product_Payday loan                                                  0\n",
       "Product_Prepaid card                                                 0\n",
       "Product_Student loan                                                 0\n",
       "Product_Virtual currency                                             0\n",
       "Sub-product                                                     138473\n",
       "Consumer disputed?                                                   0\n",
       "Complaint ID                                                         0\n",
       "day_diff                                                             0\n",
       "Tags_isNan                                                           0\n",
       "Company_public_response_isNan                                        0\n",
       "State_CA                                                             0\n",
       "State_FL                                                             0\n",
       "State_TX                                                             0\n",
       "State_NY                                                             0\n",
       "State_GA                                                             0\n",
       "State_NJ                                                             0\n",
       "State_PA                                                             0\n",
       "State_IL                                                             0\n",
       "State_VA                                                             0\n",
       "State_MD                                                             0\n",
       "State_OH                                                             0\n",
       "State_NC                                                             0\n",
       "State_MI                                                             0\n",
       "State_AZ                                                             0\n",
       "State_WA                                                             0\n",
       "Super                                                                0\n",
       "dtype: int64"
      ]
     },
     "execution_count": 28,
     "metadata": {},
     "output_type": "execute_result"
    }
   ],
   "source": [
    "cd_train.isnull().sum()"
   ]
  },
  {
   "cell_type": "code",
   "execution_count": 38,
   "metadata": {},
   "outputs": [],
   "source": [
    "cd1_train,cd1_test=train_test_split(cd_train,test_size=0.2,random_state=2)"
   ]
  },
  {
   "cell_type": "code",
   "execution_count": 43,
   "metadata": {},
   "outputs": [],
   "source": [
    "x=cd1_train.drop(['Consumer disputed?','Complaint ID'],1)\n",
    "y=cd1_train['Consumer disputed?']\n",
    "k=cd1_test.drop(['Consumer disputed?','Complaint ID'],1)\n",
    "m=cd1_test['Consumer disputed?']"
   ]
  },
  {
   "cell_type": "code",
   "execution_count": 44,
   "metadata": {},
   "outputs": [],
   "source": [
    "del cd_test['Super']\n",
    "del cd_test['Sub-product']"
   ]
  },
  {
   "cell_type": "code",
   "execution_count": 45,
   "metadata": {},
   "outputs": [],
   "source": [
    "del cd_train['Super']\n",
    "del cd_train['Sub-product']\n"
   ]
  },
  {
   "cell_type": "code",
   "execution_count": 46,
   "metadata": {},
   "outputs": [],
   "source": [
    "from sklearn.linear_model import LogisticRegression"
   ]
  },
  {
   "cell_type": "code",
   "execution_count": 1,
   "metadata": {},
   "outputs": [
    {
     "ename": "NameError",
     "evalue": "name 'LogisticRegression' is not defined",
     "output_type": "error",
     "traceback": [
      "\u001b[1;31m---------------------------------------------------------------------------\u001b[0m",
      "\u001b[1;31mNameError\u001b[0m                                 Traceback (most recent call last)",
      "\u001b[1;32m<ipython-input-1-a7ec98926b9c>\u001b[0m in \u001b[0;36m<module>\u001b[1;34m\u001b[0m\n\u001b[1;32m----> 1\u001b[1;33m \u001b[0mclf\u001b[0m\u001b[1;33m=\u001b[0m\u001b[0mLogisticRegression\u001b[0m\u001b[1;33m(\u001b[0m\u001b[1;33m)\u001b[0m\u001b[1;33m\u001b[0m\u001b[1;33m\u001b[0m\u001b[0m\n\u001b[0m",
      "\u001b[1;31mNameError\u001b[0m: name 'LogisticRegression' is not defined"
     ]
    }
   ],
   "source": [
    "clf=LogisticRegression()"
   ]
  },
  {
   "cell_type": "code",
   "execution_count": 48,
   "metadata": {},
   "outputs": [
    {
     "ename": "ValueError",
     "evalue": "could not convert string to float: 'Other mortgage'",
     "output_type": "error",
     "traceback": [
      "\u001b[1;31m---------------------------------------------------------------------------\u001b[0m",
      "\u001b[1;31mValueError\u001b[0m                                Traceback (most recent call last)",
      "\u001b[1;32m<ipython-input-48-a709f157a302>\u001b[0m in \u001b[0;36m<module>\u001b[1;34m\u001b[0m\n\u001b[1;32m----> 1\u001b[1;33m \u001b[0mclf\u001b[0m\u001b[1;33m.\u001b[0m\u001b[0mfit\u001b[0m\u001b[1;33m(\u001b[0m\u001b[0mx\u001b[0m\u001b[1;33m,\u001b[0m\u001b[0my\u001b[0m\u001b[1;33m)\u001b[0m\u001b[1;33m\u001b[0m\u001b[1;33m\u001b[0m\u001b[0m\n\u001b[0m",
      "\u001b[1;32m~\\anaconda3\\lib\\site-packages\\sklearn\\linear_model\\_logistic.py\u001b[0m in \u001b[0;36mfit\u001b[1;34m(self, X, y, sample_weight)\u001b[0m\n\u001b[0;32m   1525\u001b[0m \u001b[1;33m\u001b[0m\u001b[0m\n\u001b[0;32m   1526\u001b[0m         X, y = check_X_y(X, y, accept_sparse='csr', dtype=_dtype, order=\"C\",\n\u001b[1;32m-> 1527\u001b[1;33m                          accept_large_sparse=solver != 'liblinear')\n\u001b[0m\u001b[0;32m   1528\u001b[0m         \u001b[0mcheck_classification_targets\u001b[0m\u001b[1;33m(\u001b[0m\u001b[0my\u001b[0m\u001b[1;33m)\u001b[0m\u001b[1;33m\u001b[0m\u001b[1;33m\u001b[0m\u001b[0m\n\u001b[0;32m   1529\u001b[0m         \u001b[0mself\u001b[0m\u001b[1;33m.\u001b[0m\u001b[0mclasses_\u001b[0m \u001b[1;33m=\u001b[0m \u001b[0mnp\u001b[0m\u001b[1;33m.\u001b[0m\u001b[0munique\u001b[0m\u001b[1;33m(\u001b[0m\u001b[0my\u001b[0m\u001b[1;33m)\u001b[0m\u001b[1;33m\u001b[0m\u001b[1;33m\u001b[0m\u001b[0m\n",
      "\u001b[1;32m~\\anaconda3\\lib\\site-packages\\sklearn\\utils\\validation.py\u001b[0m in \u001b[0;36mcheck_X_y\u001b[1;34m(X, y, accept_sparse, accept_large_sparse, dtype, order, copy, force_all_finite, ensure_2d, allow_nd, multi_output, ensure_min_samples, ensure_min_features, y_numeric, warn_on_dtype, estimator)\u001b[0m\n\u001b[0;32m    753\u001b[0m                     \u001b[0mensure_min_features\u001b[0m\u001b[1;33m=\u001b[0m\u001b[0mensure_min_features\u001b[0m\u001b[1;33m,\u001b[0m\u001b[1;33m\u001b[0m\u001b[1;33m\u001b[0m\u001b[0m\n\u001b[0;32m    754\u001b[0m                     \u001b[0mwarn_on_dtype\u001b[0m\u001b[1;33m=\u001b[0m\u001b[0mwarn_on_dtype\u001b[0m\u001b[1;33m,\u001b[0m\u001b[1;33m\u001b[0m\u001b[1;33m\u001b[0m\u001b[0m\n\u001b[1;32m--> 755\u001b[1;33m                     estimator=estimator)\n\u001b[0m\u001b[0;32m    756\u001b[0m     \u001b[1;32mif\u001b[0m \u001b[0mmulti_output\u001b[0m\u001b[1;33m:\u001b[0m\u001b[1;33m\u001b[0m\u001b[1;33m\u001b[0m\u001b[0m\n\u001b[0;32m    757\u001b[0m         y = check_array(y, 'csr', force_all_finite=True, ensure_2d=False,\n",
      "\u001b[1;32m~\\anaconda3\\lib\\site-packages\\sklearn\\utils\\validation.py\u001b[0m in \u001b[0;36mcheck_array\u001b[1;34m(array, accept_sparse, accept_large_sparse, dtype, order, copy, force_all_finite, ensure_2d, allow_nd, ensure_min_samples, ensure_min_features, warn_on_dtype, estimator)\u001b[0m\n\u001b[0;32m    529\u001b[0m                     \u001b[0marray\u001b[0m \u001b[1;33m=\u001b[0m \u001b[0marray\u001b[0m\u001b[1;33m.\u001b[0m\u001b[0mastype\u001b[0m\u001b[1;33m(\u001b[0m\u001b[0mdtype\u001b[0m\u001b[1;33m,\u001b[0m \u001b[0mcasting\u001b[0m\u001b[1;33m=\u001b[0m\u001b[1;34m\"unsafe\"\u001b[0m\u001b[1;33m,\u001b[0m \u001b[0mcopy\u001b[0m\u001b[1;33m=\u001b[0m\u001b[1;32mFalse\u001b[0m\u001b[1;33m)\u001b[0m\u001b[1;33m\u001b[0m\u001b[1;33m\u001b[0m\u001b[0m\n\u001b[0;32m    530\u001b[0m                 \u001b[1;32melse\u001b[0m\u001b[1;33m:\u001b[0m\u001b[1;33m\u001b[0m\u001b[1;33m\u001b[0m\u001b[0m\n\u001b[1;32m--> 531\u001b[1;33m                     \u001b[0marray\u001b[0m \u001b[1;33m=\u001b[0m \u001b[0mnp\u001b[0m\u001b[1;33m.\u001b[0m\u001b[0masarray\u001b[0m\u001b[1;33m(\u001b[0m\u001b[0marray\u001b[0m\u001b[1;33m,\u001b[0m \u001b[0morder\u001b[0m\u001b[1;33m=\u001b[0m\u001b[0morder\u001b[0m\u001b[1;33m,\u001b[0m \u001b[0mdtype\u001b[0m\u001b[1;33m=\u001b[0m\u001b[0mdtype\u001b[0m\u001b[1;33m)\u001b[0m\u001b[1;33m\u001b[0m\u001b[1;33m\u001b[0m\u001b[0m\n\u001b[0m\u001b[0;32m    532\u001b[0m             \u001b[1;32mexcept\u001b[0m \u001b[0mComplexWarning\u001b[0m\u001b[1;33m:\u001b[0m\u001b[1;33m\u001b[0m\u001b[1;33m\u001b[0m\u001b[0m\n\u001b[0;32m    533\u001b[0m                 raise ValueError(\"Complex data not supported\\n\"\n",
      "\u001b[1;32m~\\anaconda3\\lib\\site-packages\\numpy\\core\\_asarray.py\u001b[0m in \u001b[0;36masarray\u001b[1;34m(a, dtype, order)\u001b[0m\n\u001b[0;32m     83\u001b[0m \u001b[1;33m\u001b[0m\u001b[0m\n\u001b[0;32m     84\u001b[0m     \"\"\"\n\u001b[1;32m---> 85\u001b[1;33m     \u001b[1;32mreturn\u001b[0m \u001b[0marray\u001b[0m\u001b[1;33m(\u001b[0m\u001b[0ma\u001b[0m\u001b[1;33m,\u001b[0m \u001b[0mdtype\u001b[0m\u001b[1;33m,\u001b[0m \u001b[0mcopy\u001b[0m\u001b[1;33m=\u001b[0m\u001b[1;32mFalse\u001b[0m\u001b[1;33m,\u001b[0m \u001b[0morder\u001b[0m\u001b[1;33m=\u001b[0m\u001b[0morder\u001b[0m\u001b[1;33m)\u001b[0m\u001b[1;33m\u001b[0m\u001b[1;33m\u001b[0m\u001b[0m\n\u001b[0m\u001b[0;32m     86\u001b[0m \u001b[1;33m\u001b[0m\u001b[0m\n\u001b[0;32m     87\u001b[0m \u001b[1;33m\u001b[0m\u001b[0m\n",
      "\u001b[1;31mValueError\u001b[0m: could not convert string to float: 'Other mortgage'"
     ]
    }
   ],
   "source": [
    "clf.fit(x,y)"
   ]
  },
  {
   "cell_type": "code",
   "execution_count": null,
   "metadata": {},
   "outputs": [],
   "source": [
    "prediction=clf.predict(k)"
   ]
  },
  {
   "cell_type": "code",
   "execution_count": 49,
   "metadata": {},
   "outputs": [],
   "source": [
    "from sklearn.metrics import roc_auc_score"
   ]
  },
  {
   "cell_type": "code",
   "execution_count": 50,
   "metadata": {},
   "outputs": [
    {
     "ename": "NameError",
     "evalue": "name 'prediction' is not defined",
     "output_type": "error",
     "traceback": [
      "\u001b[1;31m---------------------------------------------------------------------------\u001b[0m",
      "\u001b[1;31mNameError\u001b[0m                                 Traceback (most recent call last)",
      "\u001b[1;32m<ipython-input-50-ae449a9de56a>\u001b[0m in \u001b[0;36m<module>\u001b[1;34m\u001b[0m\n\u001b[1;32m----> 1\u001b[1;33m \u001b[0mroc_auc_score\u001b[0m\u001b[1;33m(\u001b[0m\u001b[0mprediction\u001b[0m\u001b[1;33m,\u001b[0m\u001b[0mm\u001b[0m\u001b[1;33m)\u001b[0m\u001b[1;33m\u001b[0m\u001b[1;33m\u001b[0m\u001b[0m\n\u001b[0m",
      "\u001b[1;31mNameError\u001b[0m: name 'prediction' is not defined"
     ]
    }
   ],
   "source": [
    "roc_auc_score(prediction,m)"
   ]
  },
  {
   "cell_type": "code",
   "execution_count": 51,
   "metadata": {},
   "outputs": [
    {
     "ename": "NotFittedError",
     "evalue": "This LogisticRegression instance is not fitted yet. Call 'fit' with appropriate arguments before using this estimator.",
     "output_type": "error",
     "traceback": [
      "\u001b[1;31m---------------------------------------------------------------------------\u001b[0m",
      "\u001b[1;31mNotFittedError\u001b[0m                            Traceback (most recent call last)",
      "\u001b[1;32m<ipython-input-51-2ca7a5029f53>\u001b[0m in \u001b[0;36m<module>\u001b[1;34m\u001b[0m\n\u001b[1;32m----> 1\u001b[1;33m \u001b[0mprediction\u001b[0m\u001b[1;33m=\u001b[0m\u001b[0mnp\u001b[0m\u001b[1;33m.\u001b[0m\u001b[0mwhere\u001b[0m\u001b[1;33m(\u001b[0m\u001b[0mclf\u001b[0m\u001b[1;33m.\u001b[0m\u001b[0mpredict\u001b[0m\u001b[1;33m(\u001b[0m\u001b[0mcd_test\u001b[0m\u001b[1;33m.\u001b[0m\u001b[0mdrop\u001b[0m\u001b[1;33m(\u001b[0m\u001b[1;33m[\u001b[0m\u001b[1;34m'Complaint ID'\u001b[0m\u001b[1;33m]\u001b[0m\u001b[1;33m,\u001b[0m\u001b[1;36m1\u001b[0m\u001b[1;33m)\u001b[0m\u001b[1;33m)\u001b[0m\u001b[1;33m==\u001b[0m\u001b[1;36m1\u001b[0m\u001b[1;33m,\u001b[0m\u001b[1;34m\"Yes\"\u001b[0m\u001b[1;33m,\u001b[0m\u001b[1;34m\"No\"\u001b[0m\u001b[1;33m)\u001b[0m\u001b[1;33m\u001b[0m\u001b[1;33m\u001b[0m\u001b[0m\n\u001b[0m",
      "\u001b[1;32m~\\anaconda3\\lib\\site-packages\\sklearn\\linear_model\\_base.py\u001b[0m in \u001b[0;36mpredict\u001b[1;34m(self, X)\u001b[0m\n\u001b[0;32m    291\u001b[0m             \u001b[0mPredicted\u001b[0m \u001b[1;32mclass\u001b[0m \u001b[0mlabel\u001b[0m \u001b[0mper\u001b[0m \u001b[0msample\u001b[0m\u001b[1;33m.\u001b[0m\u001b[1;33m\u001b[0m\u001b[1;33m\u001b[0m\u001b[0m\n\u001b[0;32m    292\u001b[0m         \"\"\"\n\u001b[1;32m--> 293\u001b[1;33m         \u001b[0mscores\u001b[0m \u001b[1;33m=\u001b[0m \u001b[0mself\u001b[0m\u001b[1;33m.\u001b[0m\u001b[0mdecision_function\u001b[0m\u001b[1;33m(\u001b[0m\u001b[0mX\u001b[0m\u001b[1;33m)\u001b[0m\u001b[1;33m\u001b[0m\u001b[1;33m\u001b[0m\u001b[0m\n\u001b[0m\u001b[0;32m    294\u001b[0m         \u001b[1;32mif\u001b[0m \u001b[0mlen\u001b[0m\u001b[1;33m(\u001b[0m\u001b[0mscores\u001b[0m\u001b[1;33m.\u001b[0m\u001b[0mshape\u001b[0m\u001b[1;33m)\u001b[0m \u001b[1;33m==\u001b[0m \u001b[1;36m1\u001b[0m\u001b[1;33m:\u001b[0m\u001b[1;33m\u001b[0m\u001b[1;33m\u001b[0m\u001b[0m\n\u001b[0;32m    295\u001b[0m             \u001b[0mindices\u001b[0m \u001b[1;33m=\u001b[0m \u001b[1;33m(\u001b[0m\u001b[0mscores\u001b[0m \u001b[1;33m>\u001b[0m \u001b[1;36m0\u001b[0m\u001b[1;33m)\u001b[0m\u001b[1;33m.\u001b[0m\u001b[0mastype\u001b[0m\u001b[1;33m(\u001b[0m\u001b[0mnp\u001b[0m\u001b[1;33m.\u001b[0m\u001b[0mint\u001b[0m\u001b[1;33m)\u001b[0m\u001b[1;33m\u001b[0m\u001b[1;33m\u001b[0m\u001b[0m\n",
      "\u001b[1;32m~\\anaconda3\\lib\\site-packages\\sklearn\\linear_model\\_base.py\u001b[0m in \u001b[0;36mdecision_function\u001b[1;34m(self, X)\u001b[0m\n\u001b[0;32m    264\u001b[0m             \u001b[1;32mclass\u001b[0m \u001b[0mwould\u001b[0m \u001b[0mbe\u001b[0m \u001b[0mpredicted\u001b[0m\u001b[1;33m.\u001b[0m\u001b[1;33m\u001b[0m\u001b[1;33m\u001b[0m\u001b[0m\n\u001b[0;32m    265\u001b[0m         \"\"\"\n\u001b[1;32m--> 266\u001b[1;33m         \u001b[0mcheck_is_fitted\u001b[0m\u001b[1;33m(\u001b[0m\u001b[0mself\u001b[0m\u001b[1;33m)\u001b[0m\u001b[1;33m\u001b[0m\u001b[1;33m\u001b[0m\u001b[0m\n\u001b[0m\u001b[0;32m    267\u001b[0m \u001b[1;33m\u001b[0m\u001b[0m\n\u001b[0;32m    268\u001b[0m         \u001b[0mX\u001b[0m \u001b[1;33m=\u001b[0m \u001b[0mcheck_array\u001b[0m\u001b[1;33m(\u001b[0m\u001b[0mX\u001b[0m\u001b[1;33m,\u001b[0m \u001b[0maccept_sparse\u001b[0m\u001b[1;33m=\u001b[0m\u001b[1;34m'csr'\u001b[0m\u001b[1;33m)\u001b[0m\u001b[1;33m\u001b[0m\u001b[1;33m\u001b[0m\u001b[0m\n",
      "\u001b[1;32m~\\anaconda3\\lib\\site-packages\\sklearn\\utils\\validation.py\u001b[0m in \u001b[0;36mcheck_is_fitted\u001b[1;34m(estimator, attributes, msg, all_or_any)\u001b[0m\n\u001b[0;32m    965\u001b[0m \u001b[1;33m\u001b[0m\u001b[0m\n\u001b[0;32m    966\u001b[0m     \u001b[1;32mif\u001b[0m \u001b[1;32mnot\u001b[0m \u001b[0mattrs\u001b[0m\u001b[1;33m:\u001b[0m\u001b[1;33m\u001b[0m\u001b[1;33m\u001b[0m\u001b[0m\n\u001b[1;32m--> 967\u001b[1;33m         \u001b[1;32mraise\u001b[0m \u001b[0mNotFittedError\u001b[0m\u001b[1;33m(\u001b[0m\u001b[0mmsg\u001b[0m \u001b[1;33m%\u001b[0m \u001b[1;33m{\u001b[0m\u001b[1;34m'name'\u001b[0m\u001b[1;33m:\u001b[0m \u001b[0mtype\u001b[0m\u001b[1;33m(\u001b[0m\u001b[0mestimator\u001b[0m\u001b[1;33m)\u001b[0m\u001b[1;33m.\u001b[0m\u001b[0m__name__\u001b[0m\u001b[1;33m}\u001b[0m\u001b[1;33m)\u001b[0m\u001b[1;33m\u001b[0m\u001b[1;33m\u001b[0m\u001b[0m\n\u001b[0m\u001b[0;32m    968\u001b[0m \u001b[1;33m\u001b[0m\u001b[0m\n\u001b[0;32m    969\u001b[0m \u001b[1;33m\u001b[0m\u001b[0m\n",
      "\u001b[1;31mNotFittedError\u001b[0m: This LogisticRegression instance is not fitted yet. Call 'fit' with appropriate arguments before using this estimator."
     ]
    }
   ],
   "source": [
    "prediction=np.where(clf.predict(cd_test.drop(['Complaint ID'],1))==1,\"Yes\",\"No\")"
   ]
  },
  {
   "cell_type": "code",
   "execution_count": null,
   "metadata": {},
   "outputs": [],
   "source": [
    "prediction"
   ]
  },
  {
   "cell_type": "code",
   "execution_count": null,
   "metadata": {},
   "outputs": [],
   "source": []
  },
  {
   "cell_type": "code",
   "execution_count": null,
   "metadata": {},
   "outputs": [],
   "source": []
  },
  {
   "cell_type": "code",
   "execution_count": null,
   "metadata": {},
   "outputs": [],
   "source": []
  },
  {
   "cell_type": "code",
   "execution_count": null,
   "metadata": {},
   "outputs": [],
   "source": []
  },
  {
   "cell_type": "code",
   "execution_count": null,
   "metadata": {},
   "outputs": [],
   "source": []
  },
  {
   "cell_type": "code",
   "execution_count": null,
   "metadata": {},
   "outputs": [],
   "source": []
  },
  {
   "cell_type": "code",
   "execution_count": null,
   "metadata": {},
   "outputs": [],
   "source": []
  }
 ],
 "metadata": {
  "kernelspec": {
   "display_name": "Python 3",
   "language": "python",
   "name": "python3"
  },
  "language_info": {
   "codemirror_mode": {
    "name": "ipython",
    "version": 3
   },
   "file_extension": ".py",
   "mimetype": "text/x-python",
   "name": "python",
   "nbconvert_exporter": "python",
   "pygments_lexer": "ipython3",
   "version": "3.7.6"
  }
 },
 "nbformat": 4,
 "nbformat_minor": 4
}
